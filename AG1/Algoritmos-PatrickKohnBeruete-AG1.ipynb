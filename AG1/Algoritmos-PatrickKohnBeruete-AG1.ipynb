{
 "cells": [
  {
   "cell_type": "markdown",
   "metadata": {
    "colab_type": "text",
    "id": "view-in-github"
   },
   "source": [
    "<a href=\"https://colab.research.google.com/github/pkohn19/03-AlgOptimizacion/blob/master/AG1/Algoritmos_AG1_Plantilla.ipynb\" target=\"_parent\"><img src=\"https://colab.research.google.com/assets/colab-badge.svg\" alt=\"Open In Colab\"/></a>"
   ]
  },
  {
   "cell_type": "markdown",
   "metadata": {
    "id": "GG2D6vLdYwwy"
   },
   "source": [
    "AG1-Actividad Guiada 1\n",
    "\n",
    "Nombre: Patrick Kohn Beruete\n",
    "\n",
    "https://github.com/pkohn19/03-AlgOptimizacion/tree/master/AG1"
   ]
  },
  {
   "cell_type": "markdown",
   "metadata": {},
   "source": [
    "## Torres de Hanoi - Divide y venceras"
   ]
  },
  {
   "cell_type": "code",
   "execution_count": 21,
   "metadata": {
    "id": "rTiqLuX2ZKuL"
   },
   "outputs": [],
   "source": [
    "def Torres_Hanoi(N, desde, hasta):\n",
    "    #N - Nº de fichas\n",
    "    #desde - torre inicial\n",
    "    #hasta - torre fina\n",
    "    if N==1 :\n",
    "        print(\"Lleva la ficha desde \" + str(desde) + \" hasta \" + str(hasta))\n",
    "    else:\n",
    "        Torres_Hanoi(N-1, desde, 6-desde-hasta)\n",
    "        print(\"Lleva la ficha desde \" + str(desde) + \" hasta \" + str(hasta))\n",
    "        Torres_Hanoi(N-1, 6-desde-hasta,  hasta)"
   ]
  },
  {
   "cell_type": "code",
   "execution_count": 22,
   "metadata": {
    "id": "UTL6wiczQVDA"
   },
   "outputs": [
    {
     "name": "stdout",
     "output_type": "stream",
     "text": [
      "Lleva la ficha desde 1 hasta 2\n",
      "Lleva la ficha desde 1 hasta 3\n",
      "Lleva la ficha desde 2 hasta 3\n",
      "Lleva la ficha desde 1 hasta 2\n",
      "Lleva la ficha desde 3 hasta 1\n",
      "Lleva la ficha desde 3 hasta 2\n",
      "Lleva la ficha desde 1 hasta 2\n",
      "Lleva la ficha desde 1 hasta 3\n",
      "Lleva la ficha desde 2 hasta 3\n",
      "Lleva la ficha desde 2 hasta 1\n",
      "Lleva la ficha desde 3 hasta 1\n",
      "Lleva la ficha desde 2 hasta 3\n",
      "Lleva la ficha desde 1 hasta 2\n",
      "Lleva la ficha desde 1 hasta 3\n",
      "Lleva la ficha desde 2 hasta 3\n",
      "Lleva la ficha desde 1 hasta 2\n",
      "Lleva la ficha desde 3 hasta 1\n",
      "Lleva la ficha desde 3 hasta 2\n",
      "Lleva la ficha desde 1 hasta 2\n",
      "Lleva la ficha desde 3 hasta 1\n",
      "Lleva la ficha desde 2 hasta 3\n",
      "Lleva la ficha desde 2 hasta 1\n",
      "Lleva la ficha desde 3 hasta 1\n",
      "Lleva la ficha desde 3 hasta 2\n",
      "Lleva la ficha desde 1 hasta 2\n",
      "Lleva la ficha desde 1 hasta 3\n",
      "Lleva la ficha desde 2 hasta 3\n",
      "Lleva la ficha desde 1 hasta 2\n",
      "Lleva la ficha desde 3 hasta 1\n",
      "Lleva la ficha desde 3 hasta 2\n",
      "Lleva la ficha desde 1 hasta 2\n",
      "Lleva la ficha desde 1 hasta 3\n",
      "Lleva la ficha desde 2 hasta 3\n",
      "Lleva la ficha desde 2 hasta 1\n",
      "Lleva la ficha desde 3 hasta 1\n",
      "Lleva la ficha desde 2 hasta 3\n",
      "Lleva la ficha desde 1 hasta 2\n",
      "Lleva la ficha desde 1 hasta 3\n",
      "Lleva la ficha desde 2 hasta 3\n",
      "Lleva la ficha desde 2 hasta 1\n",
      "Lleva la ficha desde 3 hasta 1\n",
      "Lleva la ficha desde 3 hasta 2\n",
      "Lleva la ficha desde 1 hasta 2\n",
      "Lleva la ficha desde 3 hasta 1\n",
      "Lleva la ficha desde 2 hasta 3\n",
      "Lleva la ficha desde 2 hasta 1\n",
      "Lleva la ficha desde 3 hasta 1\n",
      "Lleva la ficha desde 2 hasta 3\n",
      "Lleva la ficha desde 1 hasta 2\n",
      "Lleva la ficha desde 1 hasta 3\n",
      "Lleva la ficha desde 2 hasta 3\n",
      "Lleva la ficha desde 1 hasta 2\n",
      "Lleva la ficha desde 3 hasta 1\n",
      "Lleva la ficha desde 3 hasta 2\n",
      "Lleva la ficha desde 1 hasta 2\n",
      "Lleva la ficha desde 1 hasta 3\n",
      "Lleva la ficha desde 2 hasta 3\n",
      "Lleva la ficha desde 2 hasta 1\n",
      "Lleva la ficha desde 3 hasta 1\n",
      "Lleva la ficha desde 2 hasta 3\n",
      "Lleva la ficha desde 1 hasta 2\n",
      "Lleva la ficha desde 1 hasta 3\n",
      "Lleva la ficha desde 2 hasta 3\n"
     ]
    }
   ],
   "source": [
    "Torres_Hanoi(6, 1, 3)"
   ]
  },
  {
   "cell_type": "markdown",
   "metadata": {},
   "source": [
    "## Cambio de monedas - Técnica voraz"
   ]
  },
  {
   "cell_type": "code",
   "execution_count": 5,
   "metadata": {
    "colab": {
     "base_uri": "https://localhost:8080/"
    },
    "id": "YwBudj2hYoMR",
    "outputId": "c8c01a8e-522b-49df-a89d-0a7485775df9"
   },
   "outputs": [],
   "source": [
    "def cambio_monedas(cantidad, sistema):\n",
    "    solucion = [0]*len(sistema)\n",
    "    ValorAcumulado = 0\n",
    "\n",
    "    for i,valor in enumerate(sistema):\n",
    "        monedas = (cantidad-ValorAcumulado)//valor\n",
    "        solucion[i] = monedas\n",
    "        ValorAcumulado = ValorAcumulado + monedas * valor\n",
    "\n",
    "        if cantidad == ValorAcumulado:\n",
    "            return solucion\n",
    "    print(\"No es posible encontrar solucion\") "
   ]
  },
  {
   "cell_type": "code",
   "execution_count": 6,
   "metadata": {
    "id": "9toJ4WjhQUNj"
   },
   "outputs": [
    {
     "data": {
      "text/plain": [
       "[1, 0, 1, 1]"
      ]
     },
     "execution_count": 6,
     "metadata": {},
     "output_type": "execute_result"
    }
   ],
   "source": [
    "sistema = [12, 5, 2, 1]\n",
    "cambio_monedas(15, sistema)"
   ]
  },
  {
   "cell_type": "markdown",
   "metadata": {},
   "source": [
    "## N Reinas - Backtracking"
   ]
  },
  {
   "cell_type": "code",
   "execution_count": 17,
   "metadata": {
    "colab": {
     "base_uri": "https://localhost:8080/"
    },
    "id": "H4Iwt2XRZTFr",
    "outputId": "a175bf44-9517-4ece-b03e-f287aa98ff0f"
   },
   "outputs": [],
   "source": [
    "def es_prometedora(SOLUCION, etapa):\n",
    "    #Verifica que en la solución parcial no hay amenzas entre reinas\n",
    "    #Si la solución tiene dos valores iguales no es valida => Dos reinas en la misma fila\n",
    "    for i in range(etapa+1):\n",
    "        if SOLUCION.count(SOLUCION[i]) > 1:       \n",
    "            return False\n",
    "\n",
    "    #Verifica las diagonales\n",
    "    for j in range(i+1, etapa +1 ):\n",
    "        if abs(i-j) == abs(SOLUCION[i]-SOLUCION[j]) : return False\n",
    "        \n",
    "    return True\n",
    "\n",
    "def escribe_solucion(S):\n",
    "    #Traduce la solución al tablero\n",
    "    n = len(S)\n",
    "    for x in range(n):\n",
    "        print(\"\")\n",
    "        for i in range(n):\n",
    "            if S[i] == x+1:\n",
    "                print(\" X \" , end=\"\")\n",
    "            else:\n",
    "                print(\" - \", end=\"\")\n",
    "\n",
    "def reinas(N, solucion=[],etapa=0):\n",
    "    #Proceso principal de N-Reinas\n",
    "    if len(solucion) == 0:         # [0,0,0...]\n",
    "        solucion = [0 for i in range(N) ]\n",
    "\n",
    "    for i in range(1, N+1):\n",
    "        solucion[etapa] = i\n",
    "        if es_prometedora(solucion, etapa):\n",
    "            if etapa == N-1:\n",
    "                print(solucion)\n",
    "            else:  \n",
    "                reinas(N, solucion, etapa+1)\n",
    "        else:\n",
    "            None  \n",
    "    solucion[etapa] = 0"
   ]
  },
  {
   "cell_type": "code",
   "execution_count": 18,
   "metadata": {
    "colab": {
     "base_uri": "https://localhost:8080/"
    },
    "id": "eTZclKH9QV0R",
    "outputId": "5d8a8781-a0e6-4552-f441-ca9f7bbbb3a0"
   },
   "outputs": [
    {
     "name": "stdout",
     "output_type": "stream",
     "text": [
      "[1, 2, 3, 4]\n",
      "[1, 2, 4, 3]\n",
      "[1, 3, 2, 4]\n",
      "[1, 3, 4, 2]\n",
      "[1, 4, 2, 3]\n",
      "[1, 4, 3, 2]\n",
      "[2, 1, 3, 4]\n",
      "[2, 1, 4, 3]\n",
      "[2, 3, 1, 4]\n",
      "[2, 3, 4, 1]\n",
      "[2, 4, 1, 3]\n",
      "[2, 4, 3, 1]\n",
      "[3, 1, 2, 4]\n",
      "[3, 1, 4, 2]\n",
      "[3, 2, 1, 4]\n",
      "[3, 2, 4, 1]\n",
      "[3, 4, 1, 2]\n",
      "[3, 4, 2, 1]\n",
      "[4, 1, 2, 3]\n",
      "[4, 1, 3, 2]\n",
      "[4, 2, 1, 3]\n",
      "[4, 2, 3, 1]\n",
      "[4, 3, 1, 2]\n",
      "[4, 3, 2, 1]\n",
      "\n",
      " -  X  -  - \n",
      " -  -  -  X \n",
      " X  -  -  - \n",
      " -  -  X  - "
     ]
    }
   ],
   "source": [
    "reinas(4, solucion=[], etapa=0)\n",
    "escribe_solucion([3, 1, 4, 2])"
   ]
  },
  {
   "cell_type": "markdown",
   "metadata": {},
   "source": [
    "## Viaje por el rio - Programación dinámica"
   ]
  },
  {
   "cell_type": "code",
   "execution_count": 23,
   "metadata": {
    "id": "TocxR55dQWq5"
   },
   "outputs": [
    {
     "name": "stdout",
     "output_type": "stream",
     "text": [
      "\n",
      "La ruta es:\n"
     ]
    },
    {
     "ename": "NameError",
     "evalue": "name 'RUTA' is not defined",
     "output_type": "error",
     "traceback": [
      "\u001b[1;31m---------------------------------------------------------------------------\u001b[0m",
      "\u001b[1;31mNameError\u001b[0m                                 Traceback (most recent call last)",
      "\u001b[1;32m<ipython-input-23-6cf153b17bce>\u001b[0m in \u001b[0;36m<module>\u001b[1;34m\u001b[0m\n\u001b[0;32m     33\u001b[0m \u001b[1;33m\u001b[0m\u001b[0m\n\u001b[0;32m     34\u001b[0m \u001b[0mprint\u001b[0m\u001b[1;33m(\u001b[0m\u001b[1;34m\"\\nLa ruta es:\"\u001b[0m\u001b[1;33m)\u001b[0m\u001b[1;33m\u001b[0m\u001b[1;33m\u001b[0m\u001b[0m\n\u001b[1;32m---> 35\u001b[1;33m \u001b[0mcalcular_ruta\u001b[0m\u001b[1;33m(\u001b[0m\u001b[0mRUTA\u001b[0m\u001b[1;33m,\u001b[0m \u001b[1;36m0\u001b[0m\u001b[1;33m,\u001b[0m\u001b[1;36m6\u001b[0m\u001b[1;33m)\u001b[0m\u001b[1;33m\u001b[0m\u001b[1;33m\u001b[0m\u001b[0m\n\u001b[0m",
      "\u001b[1;31mNameError\u001b[0m: name 'RUTA' is not defined"
     ]
    }
   ],
   "source": [
    "TARIFAS = [\n",
    "[0,5,4,3,999,999,999],\n",
    "[999,0,999,2,3,999,11],\n",
    "[999,999, 0,1,999,4,10],\n",
    "[999,999,999, 0,5,6,9],\n",
    "[999,999, 999,999,0,999,4],\n",
    "[999,999, 999,999,999,0,3],\n",
    "[999,999,999,999,999,999,0]\n",
    "]\n",
    "\n",
    "\n",
    "def Precios(TARIFAS):\n",
    "    #Calculo de la matriz de PRECIOS y RUTAS\n",
    "    PRECIOS,RUTA = Precios(TARIFAS)  \n",
    "\n",
    "    #Imprime la matriz de precios\n",
    "    print(\"PRECIOS\")\n",
    "    for i in range(len(TARIFAS)):\n",
    "        print(PRECIOS[i])\n",
    "\n",
    "    #Imprime la matriz de RUTAS\n",
    "    print(\"\\nRUTA\")  \n",
    "    for i in range(len(TARIFAS)):\n",
    "        print(RUTA[i])  \n",
    "  \n",
    "\n",
    "def calcular_ruta(RUTA, desde, hasta):\n",
    "    #Determinar la ruta con Recursividad\n",
    "    if desde == hasta:\n",
    "        return \"\" \n",
    "    else:\n",
    "        return str(calcular_ruta( RUTA, desde, RUTA[desde][hasta])) + ',' + str(RUTA[desde][hasta]) \n",
    "\n",
    "print(\"\\nLa ruta es:\")  \n",
    "calcular_ruta(RUTA, 0,6) "
   ]
  },
  {
   "cell_type": "code",
   "execution_count": null,
   "metadata": {},
   "outputs": [],
   "source": []
  }
 ],
 "metadata": {
  "colab": {
   "collapsed_sections": [],
   "include_colab_link": true,
   "name": "Algoritmos AG1 - Plantilla.ipynb",
   "provenance": []
  },
  "kernelspec": {
   "display_name": "Python 3",
   "language": "python",
   "name": "python3"
  },
  "language_info": {
   "codemirror_mode": {
    "name": "ipython",
    "version": 3
   },
   "file_extension": ".py",
   "mimetype": "text/x-python",
   "name": "python",
   "nbconvert_exporter": "python",
   "pygments_lexer": "ipython3",
   "version": "3.7.3"
  }
 },
 "nbformat": 4,
 "nbformat_minor": 1
}
