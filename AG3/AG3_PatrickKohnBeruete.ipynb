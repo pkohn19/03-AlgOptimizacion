{
 "cells": [
  {
   "cell_type": "markdown",
   "metadata": {
    "id": "Ofrcocl8c9RM"
   },
   "source": [
    "AG3- Actividad Guiada 3<br>\n",
    "Nombre: Franklin García<br>\n",
    "https://github.com/cyberjoda25/03MIAR---Algoritmos-de-Optimizacion---2021/tree/main/AG3\n",
    "\n",
    "https://colab.research.google.com/drive/1N_CnYrt-Ptgnie7Zla_jIJU2AEnqWkYZ?usp=sharing\n"
   ]
  },
  {
   "cell_type": "markdown",
   "metadata": {
    "id": "m-gbxt9BFfdN"
   },
   "source": [
    "# Carga de librerias"
   ]
  },
  {
   "cell_type": "code",
   "execution_count": 1,
   "metadata": {
    "colab": {
     "base_uri": "https://localhost:8080/"
    },
    "id": "qP-Y3Gkfc4vn",
    "outputId": "7d4a70b6-c22f-450c-e50f-fbd415faa216"
   },
   "outputs": [
    {
     "name": "stdout",
     "output_type": "stream",
     "text": [
      "Requirement already satisfied: requests in /usr/lib/python3/dist-packages (2.22.0)\n",
      "Collecting tsplib95\n",
      "  Downloading tsplib95-0.7.1-py2.py3-none-any.whl (25 kB)\n",
      "Collecting networkx~=2.1\n",
      "  Downloading networkx-2.7.1-py3-none-any.whl (2.0 MB)\n",
      "\u001b[K     |████████████████████████████████| 2.0 MB 4.6 MB/s eta 0:00:01\n",
      "\u001b[?25hCollecting tabulate~=0.8.7\n",
      "  Downloading tabulate-0.8.9-py3-none-any.whl (25 kB)\n",
      "Collecting Deprecated~=1.2.9\n",
      "  Downloading Deprecated-1.2.13-py2.py3-none-any.whl (9.6 kB)\n",
      "Requirement already satisfied: Click>=6.0 in /usr/lib/python3/dist-packages (from tsplib95) (7.0)\n",
      "Requirement already satisfied: wrapt<2,>=1.10 in /usr/lib/python3/dist-packages (from Deprecated~=1.2.9->tsplib95) (1.11.2)\n",
      "Installing collected packages: networkx, tabulate, Deprecated, tsplib95\n",
      "Successfully installed Deprecated-1.2.13 networkx-2.7.1 tabulate-0.8.9 tsplib95-0.7.1\n"
     ]
    }
   ],
   "source": [
    "!pip install requests    #Hacer llamadas http a paginas de la red\n",
    "!pip install tsplib95    #Modulo para las instancias del problema del TSP"
   ]
  },
  {
   "cell_type": "markdown",
   "metadata": {
    "id": "nHRiJhTnFmuV"
   },
   "source": [
    "# Carga de los datos del problema"
   ]
  },
  {
   "cell_type": "code",
   "execution_count": 4,
   "metadata": {
    "colab": {
     "base_uri": "https://localhost:8080/"
    },
    "id": "mnA47nhtdKOc",
    "outputId": "85f76907-93fc-4d5c-d1db-6a1f121161e2"
   },
   "outputs": [
    {
     "data": {
      "text/plain": [
       "('swiss42.tsp', <http.client.HTTPMessage at 0x7f22bfef90d0>)"
      ]
     },
     "execution_count": 4,
     "metadata": {},
     "output_type": "execute_result"
    }
   ],
   "source": [
    "import urllib.request #Hacer llamadas http a paginas de la red\n",
    "import tsplib95       #Modulo para las instancias del problema del TSP\n",
    "import math           #Modulo de funciones matematicas. Se usa para exp\n",
    "\n",
    "#http://elib.zib.de/pub/mp-testdata/tsp/tsplib/\n",
    "#Documentacion : \n",
    "  # http://comopt.ifi.uni-heidelberg.de/software/TSPLIB95/tsp95.pdf\n",
    "  # https://tsplib95.readthedocs.io/en/stable/pages/usage.html\n",
    "  # https://tsplib95.readthedocs.io/en/v0.6.1/modules.html\n",
    "  # https://pypi.org/project/tsplib95/\n",
    "\n",
    "#Descargamos el fichero de datos(Matriz de distancias)\n",
    "file = \"swiss42.tsp\" ; \n",
    "urllib.request.urlretrieve(\"http://elib.zib.de/pub/mp-testdata/tsp/tsplib/tsp/swiss42.tsp\", file) \n",
    "\n",
    "#Coordendas 51-city problem (Christofides/Eilon)\n",
    "#file = \"eil51.tsp\" ; urllib.request.urlretrieve(\"http://elib.zib.de/pub/mp-testdata/tsp/tsplib/tsp/eil51.tsp\", file)\n",
    "\n",
    "#Coordenadas - 48 capitals of the US (Padberg/Rinaldi)\n",
    "#file = \"att48.tsp\" ; urllib.request.urlretrieve(\"http://elib.zib.de/pub/mp-testdata/tsp/tsplib/tsp/att48.tsp\", file)"
   ]
  },
  {
   "cell_type": "code",
   "execution_count": 5,
   "metadata": {
    "id": "ARkZkqP1m3tf"
   },
   "outputs": [],
   "source": [
    "#Modulos extras, no esenciales\n",
    "import numpy as np\n",
    "import matplotlib.pyplot as plt\n",
    "import imageio                    #Para construir las imagenes con gif\n",
    "#from google.colab import files    #Para descargar ficheros generados con google colab\n",
    "\n",
    "from tempfile import mkstemp      #Para genera carpetas y ficheros temporales\n",
    "\n",
    "import random                     #Para generar valores aleatorios"
   ]
  },
  {
   "cell_type": "code",
   "execution_count": 6,
   "metadata": {
    "id": "RIXYkDWcfmwd"
   },
   "outputs": [],
   "source": [
    "#Carga de datos y generación de objeto problem\n",
    "###############################################################################\n",
    "problem = tsplib95.load(file)\n",
    "\n",
    "#Nodos\n",
    "Nodos = list(problem.get_nodes())\n",
    "\n",
    "#Aristas\n",
    "Aristas = list(problem.get_edges())"
   ]
  },
  {
   "cell_type": "code",
   "execution_count": 7,
   "metadata": {
    "colab": {
     "base_uri": "https://localhost:8080/"
    },
    "id": "a7bTofSnn_Jt",
    "outputId": "ff2326cb-39e7-464f-a11e-389206473552"
   },
   "outputs": [
    {
     "data": {
      "text/plain": [
       "15"
      ]
     },
     "execution_count": 7,
     "metadata": {},
     "output_type": "execute_result"
    }
   ],
   "source": [
    "#Probamos algunas funciones del objeto problem\n",
    "\n",
    "#Distancia entre nodos\n",
    "problem.get_weight(0, 1)\n",
    "\n",
    "#Todas las funciones\n",
    "#Documentación: https://tsplib95.readthedocs.io/en/v0.6.1/modules.html\n",
    "                \n",
    "#dir(problem)"
   ]
  },
  {
   "cell_type": "code",
   "execution_count": 10,
   "metadata": {
    "id": "tzrkaBS3gmmz"
   },
   "outputs": [],
   "source": [
    " #Funcionas basicas\n",
    "###############################################################################      \n",
    "     \n",
    "#Se genera una solucion aleatoria con comienzo en en el nodo 0\n",
    "def crear_solucion(Nodos): \n",
    "    solucion = [Nodos[0]]\n",
    "    for n in Nodos[1:]:\n",
    "        solucion = solucion + [random.choice(list(set(Nodos) - set({Nodos[0]}) - set(solucion)))]\n",
    "    return solucion \n",
    "\n",
    "#Devuelve la distancia entre dos nodos\n",
    "def distancia(a,b, problem):\n",
    "    return problem.get_weight(a,b)\n",
    "\n",
    "#Devuelve la distancia total de una trayectoria/solucion\n",
    "def distancia_total(solucion, problem):\n",
    "    distancia_total = 0\n",
    "    for i in range(len(solucion)-1):\n",
    "        distancia_total += distancia(solucion[i] ,solucion[i+1] ,  problem)\n",
    "    return distancia_total + distancia(solucion[len(solucion)-1] ,solucion[0], problem)"
   ]
  },
  {
   "cell_type": "code",
   "execution_count": 11,
   "metadata": {
    "colab": {
     "base_uri": "https://localhost:8080/"
    },
    "id": "3WMiA3-68pPG",
    "outputId": "149f1a67-d14e-4dfd-ba21-b26e89fbfabc"
   },
   "outputs": [
    {
     "name": "stdout",
     "output_type": "stream",
     "text": [
      "[0, 16, 35, 38, 19, 23, 24, 26, 40, 34, 28, 7, 17, 30, 36, 11, 37, 33, 14, 5, 29, 31, 15, 39, 4, 2, 22, 18, 27, 20, 3, 41, 21, 10, 13, 1, 8, 25, 32, 9, 12, 6]\n"
     ]
    },
    {
     "data": {
      "text/plain": [
       "4873"
      ]
     },
     "execution_count": 11,
     "metadata": {},
     "output_type": "execute_result"
    }
   ],
   "source": [
    "solucion = crear_solucion(Nodos)\n",
    "print(solucion)\n",
    "distancia_total(solucion,problem)"
   ]
  },
  {
   "cell_type": "code",
   "execution_count": 9,
   "metadata": {
    "colab": {
     "base_uri": "https://localhost:8080/"
    },
    "id": "nXhAb4oNk418",
    "outputId": "054d208b-8e57-4382-8b4e-d854711b5723"
   },
   "outputs": [
    {
     "name": "stdout",
     "output_type": "stream",
     "text": [
      "Mejor solución: [0, 6, 13, 27, 14, 15, 17, 7, 19, 32, 33, 9, 24, 21, 38, 22, 34, 31, 5, 39, 35, 8, 11, 18, 3, 40, 10, 41, 4, 12, 28, 20, 30, 16, 37, 36, 25, 26, 23, 2, 29, 1]\n",
      "Distancia     : 3827\n"
     ]
    }
   ],
   "source": [
    "###############################################################################\n",
    "# BUSQUEDA ALEATORIA\n",
    "###############################################################################\n",
    "\n",
    "def busqueda_aleatoria(problem, N):\n",
    "    Nodos = list(problem.get_nodes())\n",
    "  \n",
    "  mejor_solucion = []\n",
    "  #mejor_distancia = 10e100                         #Inicializamos con un valor alto\n",
    "  mejor_distancia = float('inf')                    #Inicializamos con un valor alto\n",
    "  \n",
    "  for i in range(N):                                #Criterio de parada: repetir N veces pero podemos incluir otros\n",
    "    solucion = crear_solucion(Nodos)                #Genera una solucion aleatoria\n",
    "    distancia = distancia_total(solucion, problem)  #Calcula el valor objetivo(distancia total)\n",
    "    \n",
    "    if distancia < mejor_distancia:                 #Compara con la mejor obtenida hasta ahora\n",
    "        mejor_solucion = solucion\n",
    "        mejor_distancia = distancia\n",
    "      \n",
    "      \n",
    "    print(\"Mejor solución:\" , mejor_solucion) \n",
    "    print(\"Distancia     :\" , mejor_distancia) \n",
    "    return mejor_solucion  \n",
    "\n",
    "    \n",
    "#Busqueda aleatoria con 5000 iteraciones    \n",
    "solucion = busqueda_aleatoria(problem, 5000)    \n",
    " "
   ]
  },
  {
   "cell_type": "markdown",
   "metadata": {
    "id": "Q0V7m1JhF2li"
   },
   "source": [
    "#Busqueda Local  2-opt"
   ]
  },
  {
   "cell_type": "code",
   "execution_count": 20,
   "metadata": {
    "colab": {
     "base_uri": "https://localhost:8080/"
    },
    "id": "BT2gWJsFm5hM",
    "outputId": "b5561d91-62e6-4af8-ce94-1c6fb353c52d"
   },
   "outputs": [],
   "source": [
    "###############################################################################\n",
    "# BUSQUEDA LOCAL\n",
    "###############################################################################\n",
    "\n",
    "def genera_vecina(solucion):\n",
    "  #Generador de soluciones vecinas: 2-opt (intercambiar 2 nodos) Si hay N nodos se generan (N-1)x(N-2)/2 soluciones\n",
    "  #Se puede modificar para aplicar otros generadores distintos que 2-opt\n",
    "  #print(solucion)\n",
    "    mejor_solucion = []\n",
    "    mejor_distancia = 10e100\n",
    "    for i in range(1,len(solucion)-1):          #Recorremos todos los nodos en bucle doble para evaluar todos los intercambios 2-opt\n",
    "        for j in range(i+1, len(solucion)):\n",
    "      \n",
    "            #Se genera una nueva solución intercambiando los dos nodos i,j:\n",
    "            #  (usamos el operador + que para listas en python las concatena) : ej.: [1,2] + [3] = [1,2,3]\n",
    "            vecina = solucion[:i] + [solucion[j]] + solucion[i+1:j] + [solucion[i]] + solucion[j+1:]  \n",
    "\n",
    "            #Se evalua la nueva solución ...\n",
    "            distancia_vecina = distancia_total(vecina, problem)         \n",
    "\n",
    "            #... para guardarla si mejora las anteriores\n",
    "            if distancia_vecina <= mejor_distancia:\n",
    "                mejor_distancia = distancia_vecina\n",
    "                mejor_solucion = vecina\n",
    "    return mejor_solucion"
   ]
  },
  {
   "cell_type": "code",
   "execution_count": 21,
   "metadata": {
    "id": "z4A4F8Pps0O7"
   },
   "outputs": [
    {
     "name": "stdout",
     "output_type": "stream",
     "text": [
      "Distancia Solucion Incial: 4873\n",
      "Distancia Mejor Solucion Local: 4378\n"
     ]
    }
   ],
   "source": [
    " #solucion = [1, 47, 13, 41, 40, 19, 42, 44, 37, 5, 22, 28, 3, 2, 29, 21, 50, 34, 30, 9, 16, 11, 38, 49, 10, 39, 33, 45, 15, 24, 43, 26, 31, 36, 35, 20, 8, 7, 23, 48, 27, 12, 17, 4, 18, 25, 14, 6, 51, 46, 32]\n",
    "print(\"Distancia Solucion Incial:\" , distancia_total(solucion, problem))\n",
    " \n",
    "\n",
    "nueva_solucion = genera_vecina(solucion)\n",
    "print(\"Distancia Mejor Solucion Local:\", distancia_total(nueva_solucion, problem))"
   ]
  },
  {
   "cell_type": "code",
   "execution_count": 22,
   "metadata": {
    "colab": {
     "base_uri": "https://localhost:8080/"
    },
    "id": "UdBJg9Q9pYoE",
    "outputId": "d11c9bd7-b3c1-4422-8e2a-108b8e86f92d"
   },
   "outputs": [
    {
     "name": "stdout",
     "output_type": "stream",
     "text": [
      "En la iteracion  28 , la mejor solución encontrada es: [0, 23, 41, 25, 4, 3, 2, 9, 21, 40, 11, 12, 26, 5, 35, 36, 37, 15, 7, 1, 6, 27, 28, 29, 8, 10, 18, 13, 19, 14, 16, 17, 31, 32, 30, 22, 39, 24, 38, 34, 33, 20]\n",
      "Distancia     : 2086\n"
     ]
    }
   ],
   "source": [
    "#Busqueda Local:\n",
    "#  - Sobre el operador de vecindad 2-opt(funcion genera_vecina)\n",
    "#  - Sin criterio de parada, se para cuando no es posible mejorar.\n",
    "def busqueda_local(problem):\n",
    "    mejor_solucion = []\n",
    "\n",
    "    #Generar una solucion inicial de referencia(aleatoria)\n",
    "    solucion_referencia = crear_solucion(Nodos)\n",
    "    mejor_distancia = distancia_total(solucion_referencia, problem)\n",
    "\n",
    "    iteracion=0             #Un contador para saber las iteraciones que hacemos\n",
    "    while(1):\n",
    "        iteracion +=1         #Incrementamos el contador\n",
    "        #print('#',iteracion)\n",
    "        #Obtenemos la mejor vecina ...\n",
    "        vecina = genera_vecina(solucion_referencia)\n",
    "        #... y la evaluamos para ver si mejoramos respecto a lo encontrado hasta el momento\n",
    "        distancia_vecina = distancia_total(vecina, problem)\n",
    "\n",
    "        #Si no mejoramos hay que terminar. Hemos llegado a un minimo local(según nuestro operador de vencindad 2-opt)\n",
    "        if distancia_vecina < mejor_distancia:\n",
    "            #mejor_solucion = copy.deepcopy(vecina)   #Con copia profunda. Las copias en python son por referencia \n",
    "            mejor_solucion = vecina                   #Guarda la mejor solución encontrada\n",
    "            mejor_distancia = distancia_vecina\n",
    "        else:\n",
    "            print(\"En la iteracion \", iteracion, \", la mejor solución encontrada es:\" , mejor_solucion) \n",
    "            print(\"Distancia     :\" , mejor_distancia) \n",
    "            return mejor_solucion\n",
    "\n",
    "        solucion_referencia = vecina\n",
    "        \n",
    "sol = busqueda_local(problem )  "
   ]
  },
  {
   "cell_type": "code",
   "execution_count": 23,
   "metadata": {
    "colab": {
     "base_uri": "https://localhost:8080/"
    },
    "id": "EMwkY1r2pYLw",
    "outputId": "39f40e0a-ae3d-4230-97ef-4c131595bcb4"
   },
   "outputs": [
    {
     "data": {
      "text/plain": [
       "[0,\n",
       " 16,\n",
       " 35,\n",
       " 38,\n",
       " 19,\n",
       " 23,\n",
       " 24,\n",
       " 26,\n",
       " 40,\n",
       " 34,\n",
       " 28,\n",
       " 7,\n",
       " 17,\n",
       " 30,\n",
       " 36,\n",
       " 11,\n",
       " 37,\n",
       " 33,\n",
       " 14,\n",
       " 32,\n",
       " 29,\n",
       " 31,\n",
       " 15,\n",
       " 39,\n",
       " 4,\n",
       " 2,\n",
       " 22,\n",
       " 18,\n",
       " 27,\n",
       " 20,\n",
       " 3,\n",
       " 41,\n",
       " 21,\n",
       " 10,\n",
       " 13,\n",
       " 1,\n",
       " 8,\n",
       " 25,\n",
       " 5,\n",
       " 9,\n",
       " 12,\n",
       " 6]"
      ]
     },
     "execution_count": 23,
     "metadata": {},
     "output_type": "execute_result"
    }
   ],
   "source": [
    "###############################################################################\n",
    "# SIMULATED ANNEALING\n",
    "###############################################################################\n",
    "\n",
    "#Generador de 1 solucion vecina 2-opt 100% aleatoria (intercambiar 2 nodos)\n",
    "#Mejorable eligiendo otra forma de elegir una vecina.\n",
    "def genera_vecina_aleatorio(solucion):\n",
    "\n",
    "    #Se eligen dos nodos aleatoriamente\n",
    "    i,j = sorted(random.sample( range(1,len(solucion)) , 2))\n",
    "\n",
    "    #Devuelve una nueva solución pero intercambiando los dos nodos elegidos al azar\n",
    "    return solucion[:i] + [solucion[j]] + solucion[i+1:j] + [solucion[i]] + solucion[j+1:]\n",
    "  \n",
    "\n",
    "genera_vecina_aleatorio(solucion) "
   ]
  },
  {
   "cell_type": "code",
   "execution_count": 24,
   "metadata": {
    "id": "GsN1UIDp0j6I"
   },
   "outputs": [],
   "source": [
    "\n",
    "#Funcion de probabilidad para aceptar peores soluciones\n",
    "def probabilidad(T,d):\n",
    "    return random.random() <  math.exp( -1*d / T)\n",
    "\n",
    "#Funcion de descenso de temperatura\n",
    "def bajar_temperatura(T):\n",
    "    return T*0.99"
   ]
  },
  {
   "cell_type": "code",
   "execution_count": 25,
   "metadata": {
    "colab": {
     "base_uri": "https://localhost:8080/"
    },
    "id": "4waPiCcVtuhF",
    "outputId": "d9bfa139-2545-4d76-8ff5-e530279783cf"
   },
   "outputs": [
    {
     "name": "stdout",
     "output_type": "stream",
     "text": [
      "La mejor solución encontrada es [0, 34, 33, 38, 22, 41, 25, 11, 12, 10, 23, 21, 40, 24, 39, 30, 9, 29, 8, 27, 28, 4, 18, 26, 5, 7, 17, 31, 35, 36, 19, 13, 6, 2, 3, 1, 15, 37, 16, 14, 20, 32]\n",
      "con una distancia total de 2021\n"
     ]
    }
   ],
   "source": [
    "def recocido_simulado(problem, TEMPERATURA ):\n",
    "  #problem = datos del problema\n",
    "  #T = Temperatura\n",
    "  \n",
    "  solucion_referencia = crear_solucion(Nodos)\n",
    "  distancia_referencia = distancia_total(solucion_referencia, problem)\n",
    "  \n",
    "  mejor_solucion = []\n",
    "  mejor_distancia = 10e100\n",
    "  \n",
    "  \n",
    "  N=0\n",
    "  while TEMPERATURA > .0001:\n",
    "    N+=1\n",
    "    #Genera una solución vecina\n",
    "    vecina =genera_vecina_aleatorio(solucion_referencia)\n",
    "    \n",
    "    #Calcula su valor(distancia)\n",
    "    distancia_vecina = distancia_total(vecina, problem)\n",
    "      \n",
    "    #Si es la mejor solución de todas se guarda(siempre!!!)\n",
    "    if distancia_vecina < mejor_distancia:\n",
    "        mejor_solucion = vecina\n",
    "        mejor_distancia = distancia_vecina\n",
    "    \n",
    "    #Si la nueva vecina es mejor se cambia  \n",
    "    #Si es peor se cambia según una probabilidad que depende de T y delta(distancia_referencia - distancia_vecina)\n",
    "    if distancia_vecina < distancia_referencia or probabilidad(TEMPERATURA, abs(distancia_referencia - distancia_vecina) ) :\n",
    "      #solucion_referencia = copy.deepcopy(vecina)\n",
    "      solucion_referencia = vecina\n",
    "      distancia_referencia = distancia_vecina\n",
    "\n",
    "    #Bajamos la temperatura\n",
    "    TEMPERATURA = bajar_temperatura(TEMPERATURA)\n",
    " \n",
    "  print(\"La mejor solución encontrada es \" , end=\"\")\n",
    "  print(mejor_solucion)\n",
    "  print(\"con una distancia total de \" , end=\"\")\n",
    "  print(mejor_distancia)\n",
    "  return mejor_solucion\n",
    "\n",
    "sol  = recocido_simulado(problem, 10000000)"
   ]
  }
 ],
 "metadata": {
  "colab": {
   "collapsed_sections": [],
   "name": "Algoritmos(ABR21)  - AG3.ipynb",
   "provenance": [],
   "toc_visible": true
  },
  "kernelspec": {
   "display_name": "Python 3 (ipykernel)",
   "language": "python",
   "name": "python3"
  },
  "language_info": {
   "codemirror_mode": {
    "name": "ipython",
    "version": 3
   },
   "file_extension": ".py",
   "mimetype": "text/x-python",
   "name": "python",
   "nbconvert_exporter": "python",
   "pygments_lexer": "ipython3",
   "version": "3.8.10"
  }
 },
 "nbformat": 4,
 "nbformat_minor": 4
}
