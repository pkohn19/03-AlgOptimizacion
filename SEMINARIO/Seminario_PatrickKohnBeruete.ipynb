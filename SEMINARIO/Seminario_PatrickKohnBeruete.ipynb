{
 "cells": [
  {
   "cell_type": "markdown",
   "metadata": {
    "id": "hVbXYX-RfPWh"
   },
   "source": [
    "# Algoritmos de optimización - Seminario<br>\n",
    "Nombre y Apellidos:  Patrick Kohn Beruete <br>\n",
    "Url: https://github.com/pkohn19/03-AlgOptimizacion/tree/master/SEMINARIO<br>\n",
    "Problema:\n",
    ">3. Combinar cifras y operaciones\n",
    "\n",
    "(*) La respuesta es obligatoria\n",
    "                               \n",
    "                               \n",
    "**Descripción del problema:**       "
   ]
  },
  {
   "cell_type": "markdown",
   "metadata": {
    "id": "AiskKkzZfy4e"
   },
   "source": [
    "• Disponemos de las 9 cifras del 1 al 9 (excluimos el cero) y de los 4 signos básicos de las\n",
    "operaciones fundamentales: suma(+), resta(-), multiplicación(*) y división(/).\n",
    "\n",
    "• Debemos combinarlos alternativamente **sin repetir ninguno de ellos** para obtener una cantidad\n",
    "dada. Un ejemplo sería para obtener el 4:\n",
    "4+2-6/3*1 = 4\n",
    "\n",
    "• Debe analizarse el problema para encontrar todos los valores enteros posibles planteando las\n",
    "siguientes cuestiones:\n",
    "- ¿Qué valor máximo y mínimo se pueden obtener según las condiciones del problema?\n",
    "- ¿Es posible encontrar todos los valores enteros posibles entre dicho mínimo y máximo ?"
   ]
  },
  {
   "cell_type": "markdown",
   "metadata": {
    "id": "3_-exlrTgLd-"
   },
   "source": [
    "**(*)¿Cuantas posibilidades hay sin tener en cuenta las restricciones?**<br>\n",
    "\n",
    "\n",
    "\n",
    "¿Cuantas posibilidades hay teniendo en cuenta todas las restricciones.\n",
    "\n",
    "\n"
   ]
  },
  {
   "cell_type": "markdown",
   "metadata": {
    "id": "WfCUqJyKhPcw"
   },
   "source": [
    "Respuesta\n",
    "\n",
    "---------------------"
   ]
  },
  {
   "cell_type": "markdown",
   "metadata": {
    "id": "iq6Fe32MgpDX"
   },
   "source": [
    "- El punto más importante a tener en cuenta para esta pregunta y la siguiente del mismo apartado (aplicando restricciones) es que el resultado **DEBE SER ENTERO**. \n",
    "Nuestra solución dejaría de ser entera en caso de que la división devolviese un valor impar. \n",
    "En primer lugar vamos a ver de cuantas maneras podremos ordenar los números: Para nuestro primer caso, es como si obtuviesemos números de 4 cifras con repetición. La manera es clara -> El orden es importante por lo que tenemos una **variación con repetición**. Calculamos VR(9,5) = 9^5 = 59049. Podemos ordenar los números de 6561 formas. <br><br>\n",
    "Por otro lado, tenemos que combinar a su vez las operaciones pero esta vez es una permutación sencilla= 4! = 24. Por lo tanto el resultado final es multiplicar ambos valores = 59049 * 24 = 1417176 resultados diferentes!!! Una barbaridad de opciones\n",
    "\n",
    "\n",
    "- Respecto a la segunda pregunta, como bien he dicho el principal problema es el de obtener enteros (la división debe de ser de múltiplos). También debemos evitar repetir números por lo que la variación debe de ser **variación sin repetición**. \n",
    "Calculamos V(9,5) = 9!/(9-5)! = 15120. Podemos ordenar los números de 15120 formas. A su vez tendríamos que restringir las divisiones impares pero no se me ha ocurrido como conseguirlo!.<br>\n",
    "A ese resultado tendríamos que volver a multiplicar 4! porque de nuevo, alternamos las operaciones.\n",
    "\n",
    "---------------------"
   ]
  },
  {
   "cell_type": "markdown",
   "metadata": {
    "id": "dzynfVJahHoY"
   },
   "source": [
    "Modelo para el espacio de soluciones<br>\n",
    "**(*) ¿Cual es la estructura de datos que mejor se adapta al problema? Argumentalo.(Es posible que hayas elegido una al principio y veas la necesidad de cambiar, arguentalo)**\n"
   ]
  },
  {
   "cell_type": "markdown",
   "metadata": {
    "id": "xFIJrOwKi2Ti"
   },
   "source": [
    "Respuesta\n",
    "\n",
    "---------------------"
   ]
  },
  {
   "cell_type": "markdown",
   "metadata": {
    "id": "38c-7-ejhJmA"
   },
   "source": [
    "- Por un momento pensé en tener de alguna manera una matriz con valores y resultados pero debido a la alta cantidad de valores y opciones no sería óptimo. Otra opción podría ser un árbol donde los nodos son los números y las ramas son las operaciones pero también lo veo excesivamente amplio para la cantidad de operaciones posibles a realizar. El arbol acabaría siendo demasiado alto. <br><br>\n",
    "Creo que la mejor manera es utilizando arrays. Además contamos con la ventaja de que evaluar una cadena tiene un coste O(1) ya que solo es realizar 4 operaciones aritméticas básicas.\n",
    "\n",
    "---------------------"
   ]
  },
  {
   "cell_type": "markdown",
   "metadata": {
    "id": "7Z9U2W7bi-XS"
   },
   "source": [
    "Según el modelo para el espacio de soluciones<br>\n",
    "**(*)¿Cual es la función objetivo?**\n",
    "\n",
    "**(*)¿Es un problema de maximización o minimización?**"
   ]
  },
  {
   "cell_type": "markdown",
   "metadata": {
    "id": "hBalWLM7j1_d"
   },
   "source": [
    "Respuesta\n",
    "\n",
    "---------------------"
   ]
  },
  {
   "cell_type": "markdown",
   "metadata": {
    "id": "pDA-rg3Gj5Lz"
   },
   "source": [
    "- En nuestro caso particular contamos con 2 subproblemas idénticos. Ambos parten de tratar de manera diferente el resultado de una operación. Por lo tanto esa será nuestra función objetivo f(a,b,c,d) = a (+,-,*,/) b (+,-,*,/) c (+,-,*,/) d (+,-,*,/). <br>\n",
    "\n",
    "- En primer lugar queremos **maximizar** el resultado de la operación creada y luego **minimizarlo**. Por ello, para el caso primero de encontrar la operación con el resultado mayor queremos maximizar la función objetivo. Para el segundo caso es lo contrario, queremos minimizar la función objetivo.\n",
    "\n",
    "- Para la segunda parte del enunciado (ver si todos los valores entre min y max se pueden crear) es equivalente a comprobar si la función es continua en todo su dominio.\n",
    "\n",
    "Creo que el problema principal que le aporta complejidad al problema es el orden de los operadores dado que si fuese un orden establecido, encontrar un minimo y maximo de una función de 4 variables sería relativamente sencillo usando derivadas.\n",
    "\n",
    "---------------------"
   ]
  },
  {
   "cell_type": "markdown",
   "metadata": {
    "id": "rlnTYgY1j6I2"
   },
   "source": [
    "Diseña un algoritmo para resolver el problema por fuerza bruta"
   ]
  },
  {
   "cell_type": "markdown",
   "metadata": {
    "id": "70rDgxYXkC8r"
   },
   "source": [
    "Respuesta\n",
    "\n",
    "---------------------"
   ]
  },
  {
   "cell_type": "markdown",
   "metadata": {
    "id": "CJb5sQ0qkENy"
   },
   "source": [
    "- Tal y como he dicho en el apartado anterior, realmente queremos analizar una función de 4 variables pero nos encontramos ante diferentes ordenaciones posibles de las operaciones aritméticas entre dichas variables. Por lo tanto creo que el algoritmo a fuerza bruta sencillamente es crear las 24 combinaciones de operaciones (4!) y encontrar el mínimo, máximo y continuidad de cada una de esas funciones y obtener el resultado final. <br>\n",
    "Dicho resultado vendría de obtener max(max_de_cada_funcion), min(min_de_cada_funcion) y obtener la interseccion de todos los dominios y ver si algún valor queda sin cubrir.\n",
    "\n",
    "**Algoritmo:**"
   ]
  },
  {
   "cell_type": "code",
   "execution_count": 46,
   "metadata": {},
   "outputs": [],
   "source": [
    "from itertools import permutations\n",
    "import numpy as np\n",
    "from time import time\n",
    "import random\n",
    "import operator\n",
    "\n",
    "SIGNOS = \"+-/*\" # ponemos en string para que la funcion de itertools entienda el formato de entrada\n",
    "NUMEROS = \"123456789\"\n",
    "OPERACIONES = list(permutations(SIGNOS)) # creamos las posibles combinaciones de operadores\n",
    "COMB_NUMEROS = list(permutations(NUMEROS, 5)) # creamos las posibles combinaciones de números"
   ]
  },
  {
   "cell_type": "code",
   "execution_count": 60,
   "metadata": {},
   "outputs": [],
   "source": [
    "def obtener_operaciones(objetivo):\n",
    "    resultados = []\n",
    "    for comb_num in COMB_NUMEROS:\n",
    "        for operacion in OPERACIONES:\n",
    "            formula = \"\"\n",
    "            for i in range(4):\n",
    "                formula += f\"{comb_num[i]}{operacion[i]}\"\n",
    "            formula += comb_num[i+1]\n",
    "            if eval(formula) == objetivo: \n",
    "                resultados.append(formula)\n",
    "    if len(resultados) == 0:\n",
    "        return False\n",
    "    else:\n",
    "        formula_random = np.random.choice(resultados, 1)[0] # elegimos una solución de todas las posibles\n",
    "        return formula_random"
   ]
  },
  {
   "cell_type": "code",
   "execution_count": 48,
   "metadata": {},
   "outputs": [
    {
     "name": "stdout",
     "output_type": "stream",
     "text": [
      "Hemos tardado 2.5412368774414062 segundos\n"
     ]
    }
   ],
   "source": [
    "start = time()\n",
    "obtener_operaciones(2)\n",
    "print(f\"Hemos tardado {time()-start} segundos\")"
   ]
  },
  {
   "cell_type": "markdown",
   "metadata": {},
   "source": [
    "Vamos a calcular de nuevo el ejercicio pero con mas opciones posibles para ver como aumenta rapidamente el tiempo de ejecución y la complejidad temporal"
   ]
  },
  {
   "cell_type": "code",
   "execution_count": 58,
   "metadata": {},
   "outputs": [
    {
     "name": "stdout",
     "output_type": "stream",
     "text": [
      "Para 4 operaciones y 10 números hemos tardado 5.172226667404175 segundos\n",
      "-----------------------\n",
      "Para 4 operaciones y 11 números hemos tardado 9.51769757270813 segundos\n",
      "-----------------------\n",
      "Para 4 operaciones y 12 números hemos tardado 16.174983263015747 segundos\n",
      "-----------------------\n",
      "Para 4 operaciones y 13 números hemos tardado 26.637192487716675 segundos\n"
     ]
    }
   ],
   "source": [
    "NUMEROS = \"0123456789\"\n",
    "COMB_NUMEROS = list(permutations(NUMEROS, 5)) # creamos las posibles combinaciones de números\n",
    "\n",
    "start = time()\n",
    "obtener_operaciones(2)\n",
    "print(f\"Para 4 operaciones y 10 números hemos tardado {time()-start} segundos\")\n",
    "\n",
    "print(\"-----------------------\")\n",
    "\n",
    "NUMEROS = \"01234567891\"\n",
    "COMB_NUMEROS = list(permutations(NUMEROS, 5)) # creamos las posibles combinaciones de números\n",
    "\n",
    "start = time()\n",
    "obtener_operaciones(2)\n",
    "print(f\"Para 4 operaciones y 11 números hemos tardado {time()-start} segundos\")\n",
    "\n",
    "print(\"-----------------------\")\n",
    "\n",
    "NUMEROS = \"012345678912\"\n",
    "COMB_NUMEROS = list(permutations(NUMEROS, 5)) # creamos las posibles combinaciones de números\n",
    "\n",
    "start = time()\n",
    "obtener_operaciones(2)\n",
    "print(f\"Para 4 operaciones y 12 números hemos tardado {time()-start} segundos\")\n",
    "\n",
    "print(\"-----------------------\")\n",
    "\n",
    "NUMEROS = \"0123456789123\"\n",
    "COMB_NUMEROS = list(permutations(NUMEROS, 5)) # creamos las posibles combinaciones de números\n",
    "\n",
    "start = time()\n",
    "obtener_operaciones(2)\n",
    "print(f\"Para 4 operaciones y 13 números hemos tardado {time()-start} segundos\")"
   ]
  },
  {
   "cell_type": "markdown",
   "metadata": {},
   "source": [
    "Por último, vamos a probar el valor máximo, minimo y si algun valor no se puede conseguir por fuerza bruta:"
   ]
  },
  {
   "cell_type": "code",
   "execution_count": 61,
   "metadata": {},
   "outputs": [],
   "source": [
    "NUMEROS = \"123456789\"\n",
    "COMB_NUMEROS = list(permutations(NUMEROS, 5)) # creamos las posibles combinaciones de números\n",
    "\n",
    "for i in range(-100, 100):\n",
    "    if not obtener_operaciones(i):\n",
    "        print(f\"NO HEMOS ENCONTRADO COMBINACIÓN PARA EL VALOR {i}\")"
   ]
  },
  {
   "cell_type": "markdown",
   "metadata": {},
   "source": [
    "\n",
    "\n",
    "---------------------"
   ]
  },
  {
   "cell_type": "markdown",
   "metadata": {
    "id": "tgrnsC2nkFa8"
   },
   "source": [
    "Calcula la complejidad del algoritmo por fuerza bruta"
   ]
  },
  {
   "cell_type": "markdown",
   "metadata": {
    "id": "9eUd3xwckP68"
   },
   "source": [
    "Respuesta\n",
    "\n",
    "---------------------"
   ]
  },
  {
   "cell_type": "markdown",
   "metadata": {
    "id": "rvZWwL-ckRST"
   },
   "source": [
    "- La complejidad es grande debido a que las ordenaciones posibles para los operadores son del tipo n!. Si quisiésemos hacer este problema para nuevos operadores (incluso creados por nosotros) tendríamos una complejidad O(n!). Esto es imposible de asumir a no ser que pensemos maneras de optimizar los cálculos."
   ]
  },
  {
   "cell_type": "markdown",
   "metadata": {
    "id": "txbrmLmskReM"
   },
   "source": [
    "**(*)Diseña un algoritmo que mejore la complejidad del algortimo por fuerza bruta. Argumenta porque crees que mejora el algoritmo por fuerza bruta**"
   ]
  },
  {
   "cell_type": "markdown",
   "metadata": {
    "id": "hLrVwt5QkZPD"
   },
   "source": [
    "Respuesta\n",
    "\n",
    "---------------------"
   ]
  },
  {
   "cell_type": "markdown",
   "metadata": {
    "id": "m1eyM21Vkabg"
   },
   "source": [
    "- Una de las posibles maneras de restringir el espacio de soluciones es tener en cuenta la prioridad de los cálculos matemáticos. Esto es, añadir restricciones para no calcular de nuevo operaciones de los que sabemos que el coste va a ser igual. Por ejemplo 2 + 3 * 4 es lo mismo que 3 * 4 + 2.\n",
    "\n",
    "- Por otro lado, según el problema a realizar (minimizar o maximizar resultado) los pesos de los números a tratar debe ser diferente. Por ejemplo cuando buscamos el mayor resultado, debemos dar más peso a los valores en las multiplicaciones y suma pero menos a resta y división porque sabemos que obtenemos mayores resultados sumando y multiplicando y queremos que no se vea reducido ese valor. <br>\n",
    "Respecto al caso de obtener el menor valor, también debemos pensar en dar mas peso a la multiplicación pero siedo este valor una resta. Es decir, preferimos hacer 1 - 9 * 8 que 9 * 8  -1.\n",
    "\n",
    "---------------------"
   ]
  },
  {
   "cell_type": "markdown",
   "metadata": {
    "id": "eGDB4K6uk1iN"
   },
   "source": [
    "**(*)Calcula la complejidad del algoritmo**"
   ]
  },
  {
   "cell_type": "markdown",
   "metadata": {
    "id": "NhpTh_BPk1ms"
   },
   "source": [
    "Respuesta\n",
    "\n",
    "---------------------"
   ]
  },
  {
   "cell_type": "code",
   "execution_count": null,
   "metadata": {
    "id": "nREzhkStlCq8"
   },
   "outputs": [],
   "source": []
  },
  {
   "cell_type": "markdown",
   "metadata": {
    "id": "3M6QjTsSkmYe"
   },
   "source": [
    "Según el problema (y tenga sentido), diseña un juego de datos de entrada aleatorios"
   ]
  },
  {
   "cell_type": "markdown",
   "metadata": {
    "id": "Jc3_OlyNkvjZ"
   },
   "source": [
    "Respuesta\n",
    "\n",
    "---------------------"
   ]
  },
  {
   "cell_type": "code",
   "execution_count": null,
   "metadata": {
    "id": "sJ-N2etjkyWc"
   },
   "outputs": [],
   "source": []
  },
  {
   "cell_type": "markdown",
   "metadata": {
    "id": "zy5ZROmjlGo1"
   },
   "source": [
    "Aplica el algoritmo al juego de datos generado"
   ]
  },
  {
   "cell_type": "markdown",
   "metadata": {
    "id": "_Cmj-PVylMsa"
   },
   "source": [
    "Respuesta\n",
    "\n",
    "---------------------"
   ]
  },
  {
   "cell_type": "code",
   "execution_count": null,
   "metadata": {
    "id": "Jkx8GeiYlUz1"
   },
   "outputs": [],
   "source": []
  },
  {
   "cell_type": "markdown",
   "metadata": {
    "id": "eTFWUJQrtGcv"
   },
   "source": [
    "Enumera las referencias que has utilizado(si ha sido necesario) para llevar a cabo el trabajo"
   ]
  },
  {
   "cell_type": "markdown",
   "metadata": {
    "id": "YKQ_mRBttWsP"
   },
   "source": [
    "Respuesta\n",
    "\n",
    "---------------------"
   ]
  },
  {
   "cell_type": "markdown",
   "metadata": {},
   "source": [
    "- https://www.unirioja.es/talleres/creatividad_matematica/SeminarioBachillerato/COMBINATORIA.pdf\n",
    "- https://docs.python.org/3/library/itertools.html\n",
    "\n",
    "---------------------"
   ]
  },
  {
   "cell_type": "markdown",
   "metadata": {
    "id": "kAkDPUyRtYyH"
   },
   "source": [
    "Describe brevemente las lineas de como crees que es posible avanzar en el estudio del problema. Ten en cuenta incluso posibles variaciones del problema y/o variaciones al alza del tamaño"
   ]
  },
  {
   "cell_type": "markdown",
   "metadata": {
    "id": "IE0uZmo-tZu-"
   },
   "source": [
    "Respuesta\n",
    "\n",
    "---------------------"
   ]
  },
  {
   "cell_type": "markdown",
   "metadata": {},
   "source": [
    "Basado en mi experiencia trabajando en el mundo de la IA (en campos sobretodo de Deeplearning) he conversado muchas veces con compañeros especializados en Aprendizaje por refuerzo. Este tipo de algoritmos se sirven de unas recompensas o premios para elegir los siguientes pasos a realizar. Creo que si aumentamos la complejidad del problema aportando más restricciones y aumentando e número de condiciones y variables debemos pensar en aplicar algoritmos de este tipo.\n",
    "\n",
    "Es cierto que se trata de algoritmos que no están pensados para optimizar procesos si no obtener los mejores resultados (con implementaciones sencillas). Es ocmunmente usado para resolver juegos o problemas espaciales (por ejemplo movimientos y decisiones de robots o el problema del taxista). Realmente veo una similitud entre lo que queremos hacer y este tipo de algoritmo de Machine Learnings, pero como digo, puede ir en contra de la filosofía de la presente asignatura de encontrar algoritmos eficaces pero eficientes.\n",
    "\n",
    "---------------------"
   ]
  },
  {
   "cell_type": "code",
   "execution_count": null,
   "metadata": {},
   "outputs": [],
   "source": []
  }
 ],
 "metadata": {
  "colab": {
   "collapsed_sections": [],
   "name": "Seminario - Algoritmos.ipynb",
   "provenance": []
  },
  "kernelspec": {
   "display_name": "Python 3",
   "language": "python",
   "name": "python3"
  },
  "language_info": {
   "codemirror_mode": {
    "name": "ipython",
    "version": 3
   },
   "file_extension": ".py",
   "mimetype": "text/x-python",
   "name": "python",
   "nbconvert_exporter": "python",
   "pygments_lexer": "ipython3",
   "version": "3.7.3"
  }
 },
 "nbformat": 4,
 "nbformat_minor": 1
}
