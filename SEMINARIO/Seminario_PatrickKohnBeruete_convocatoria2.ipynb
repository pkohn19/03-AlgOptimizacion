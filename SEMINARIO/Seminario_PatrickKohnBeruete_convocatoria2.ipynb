{
 "cells": [
  {
   "cell_type": "markdown",
   "metadata": {
    "id": "hVbXYX-RfPWh"
   },
   "source": [
    "# Algoritmos de optimización - Seminario<br>\n",
    "Nombre y Apellidos:  Patrick Kohn Beruete <br>\n",
    "Url: https://github.com/pkohn19/03-AlgOptimizacion/tree/master/SEMINARIO<br>\n",
    "Problema:\n",
    ">3. Combinar cifras y operaciones\n",
    "\n",
    "(*) La respuesta es obligatoria\n",
    "                               \n",
    "                               \n",
    "**Descripción del problema:**       "
   ]
  },
  {
   "cell_type": "markdown",
   "metadata": {
    "id": "AiskKkzZfy4e"
   },
   "source": [
    "• Disponemos de las 9 cifras del 1 al 9 (excluimos el cero) y de los 4 signos básicos de las\n",
    "operaciones fundamentales: suma(+), resta(-), multiplicación(*) y división(/).\n",
    "\n",
    "• Debemos combinarlos alternativamente **sin repetir ninguno de ellos** para obtener una cantidad\n",
    "dada. Un ejemplo sería para obtener el 4:\n",
    "4+2-6/3*1 = 4\n",
    "\n",
    "• Debe analizarse el problema para encontrar todos los valores enteros posibles planteando las\n",
    "siguientes cuestiones:\n",
    "- ¿Qué valor máximo y mínimo se pueden obtener según las condiciones del problema?\n",
    "- ¿Es posible encontrar todos los valores enteros posibles entre dicho mínimo y máximo ?"
   ]
  },
  {
   "cell_type": "markdown",
   "metadata": {
    "id": "3_-exlrTgLd-"
   },
   "source": [
    "**(*)¿Cuantas posibilidades hay sin tener en cuenta las restricciones?**<br>"
   ]
  },
  {
   "cell_type": "markdown",
   "metadata": {
    "id": "WfCUqJyKhPcw",
    "tags": []
   },
   "source": [
    "Respuesta:\n",
    "\n",
    "---------------------\n",
    "Dado que no tenemos ningún tipo de restricción podemos repetir operadores y números. Por lo tanto para los operadores tenemos 4 (+-*/) opciones de las cuales tenemos que usar 4 por lo que resultan 4⁴ posibilidades. Idem para los números. Tenemos 9 cifras y debemos elegir 5= 9⁵.\n",
    "\n",
    "Esto resulta en un total de 9⁵ * 4⁴ = 15116544 combinaciones posibles **sin restricciones**"
   ]
  },
  {
   "cell_type": "markdown",
   "metadata": {
    "id": "iq6Fe32MgpDX"
   },
   "source": [
    "¿Cuantas posibilidades hay teniendo en cuenta todas las restricciones."
   ]
  },
  {
   "cell_type": "markdown",
   "metadata": {
    "tags": []
   },
   "source": [
    "Respuesta:\n",
    "\n",
    "---------------------\n",
    "    \n",
    "- Respecto a la segunda pregunta, debemos evitar repetir números por lo que la variación debe de ser **variación sin repetición**. \n",
    "Calculamos V(9,5) = 9!/(9-5)! = 15120. Podemos ordenar los números de 15120 formas. Respecto a las operaciones tenemos que ordenar 4 opciones sin repetición. Estamos ante una permutación (4!). Por lo tanto el resultado final es 9! = 362880. Mas de 40 veces menos opciones que para el caso con restricciones. Vemos como simples matices en las restricciones afectan y reducen considerablemente el espacio de soluciones"
   ]
  },
  {
   "cell_type": "markdown",
   "metadata": {
    "id": "dzynfVJahHoY"
   },
   "source": [
    "Modelo para el espacio de soluciones<br>\n",
    "**(*) ¿Cual es la estructura de datos que mejor se adapta al problema? Argumentalo.(Es posible que hayas elegido una al principio y veas la necesidad de cambiar, argumentalo)**\n"
   ]
  },
  {
   "cell_type": "markdown",
   "metadata": {
    "id": "xFIJrOwKi2Ti"
   },
   "source": [
    "Respuesta\n",
    "\n",
    "---------------------"
   ]
  },
  {
   "cell_type": "markdown",
   "metadata": {
    "id": "38c-7-ejhJmA"
   },
   "source": [
    "Por un momento pensé en tener de alguna manera una matriz con valores y resultados pero debido a la alta cantidad de valores y opciones no sería óptimo. Otra opción podría ser un árbol donde los nodos son los números y las ramas son las operaciones pero también lo veo excesivamente amplio para la cantidad de operaciones posibles a realizar. El arbol acabaría siendo demasiado alto. <br>\n",
    "Creo que la mejor manera es utilizando arrays. Además contamos con la ventaja de que evaluar una cadena tiene un coste O(1) ya que solo es realizar 4 operaciones aritméticas básicas.\n",
    "Por lo tanto vamos a utilizar un array de operaciones con los operandos (+-*/) y otro con las cifras del 1 al 9. \n",
    "\n",
    "numeros = [\"0\",\"1\",\"2\",\"3\",\"4\",\"5\",\"6\",\"7\",\"8\",\"9\"]\n",
    "signos = [\"+\",\"-\",\"*\",\"/\"]\n",
    "\n",
    "- Vemos como los números los guardamos como strings. Esto es debido a que usaremos la función eval() que evalua strings.\n",
    "- Para el algoritmo de fuerza bruta he usado estas mismas estructuras en string para poder ser combinadas con itertools pero internamente un string sigue siendo un array de chars así que mantenemos la idea.\n",
    "- **Añadido tras obtener el algoritmo óptimo:** Para mejorar el coste temporal y espacial podemos usar la estructura de set(), que tiene un orden O(1) de consulta y borrado de elementos."
   ]
  },
  {
   "cell_type": "markdown",
   "metadata": {
    "id": "7Z9U2W7bi-XS"
   },
   "source": [
    "Según el modelo para el espacio de soluciones<br>\n",
    "**(*)¿Cual es la función objetivo?**\n",
    "\n",
    "**(*)¿Es un problema de maximización o minimización?**"
   ]
  },
  {
   "cell_type": "markdown",
   "metadata": {
    "id": "hBalWLM7j1_d"
   },
   "source": [
    "Respuesta\n",
    "\n",
    "---------------------"
   ]
  },
  {
   "cell_type": "markdown",
   "metadata": {
    "id": "pDA-rg3Gj5Lz"
   },
   "source": [
    "- No estamos ante un algoítmo de optimización en el que debemos buscar un máximo o un mínimo como puede ser por ejemplo el problema tipo 2. Es un problema de búsqueda. Queremos buscar los valores, tanto números como variables, que obtengan el valor n de entrada. Por lo tanto nuestra función es la siguiente: n = eval(numeros[i]+signos[a]+numeros[j]+signos[b]+numeros[k]+signos[c]+numeros[l]+signos[d]+numeros[m]).\n",
    "- Importante destacar que el + de la función es para unir cadenas y que eval() utlice un string.\n",
    "- Sin embargo, el problema también puede transformarse en encontrar un valor máximo/mínimo posible de todas las situaciones. ¿Qué valor máximo podemos construir?\n",
    "\n",
    "Creo que el problema principal que le aporta complejidad al problema es el orden de los operadores dado que si fuese un orden establecido, encontrar un minimo y maximo de una función de 4 variables sería relativamente sencillo usando derivadas."
   ]
  },
  {
   "cell_type": "markdown",
   "metadata": {
    "id": "rlnTYgY1j6I2"
   },
   "source": [
    "Diseña un algoritmo para resolver el problema por fuerza bruta"
   ]
  },
  {
   "cell_type": "markdown",
   "metadata": {
    "id": "70rDgxYXkC8r"
   },
   "source": [
    "Respuesta\n",
    "\n",
    "---------------------"
   ]
  },
  {
   "cell_type": "markdown",
   "metadata": {
    "id": "CJb5sQ0qkENy"
   },
   "source": [
    "**Algoritmo:**"
   ]
  },
  {
   "cell_type": "code",
   "execution_count": 77,
   "metadata": {},
   "outputs": [],
   "source": [
    "from itertools import permutations\n",
    "import numpy as np\n",
    "from time import time\n",
    "import random\n",
    "import operator\n",
    "\n",
    "SIGNOS = \"+-/*\" # ponemos en string para que la funcion de itertools entienda el formato de entrada\n",
    "NUMEROS = \"123456789\"\n",
    "OPERACIONES = list(permutations(SIGNOS)) # creamos las posibles combinaciones de operadores\n",
    "COMB_NUMEROS = list(permutations(NUMEROS, 5)) # creamos las posibles combinaciones de números"
   ]
  },
  {
   "cell_type": "code",
   "execution_count": 78,
   "metadata": {},
   "outputs": [],
   "source": [
    "def obtener_operaciones(objetivo):\n",
    "    resultados = []\n",
    "    for comb_num in COMB_NUMEROS:\n",
    "        for operacion in OPERACIONES:\n",
    "            formula = \"\"\n",
    "            for i in range(4):\n",
    "                formula += f\"{comb_num[i]}{operacion[i]}\"\n",
    "            formula += comb_num[i+1]\n",
    "            if eval(formula) == objetivo: \n",
    "                resultados.append(formula)\n",
    "    if len(resultados) == 0:\n",
    "        return False\n",
    "    else:\n",
    "        formula_random = np.random.choice(resultados, 1)[0] # elegimos una solución de todas las posibles\n",
    "        return formula_random"
   ]
  },
  {
   "cell_type": "code",
   "execution_count": 79,
   "metadata": {},
   "outputs": [
    {
     "name": "stdout",
     "output_type": "stream",
     "text": [
      "Hemos tardado 2.339439630508423 segundos\n"
     ]
    }
   ],
   "source": [
    "start = time()\n",
    "obtener_operaciones(2)\n",
    "print(f\"Hemos tardado {time()-start} segundos\")"
   ]
  },
  {
   "cell_type": "markdown",
   "metadata": {},
   "source": [
    "Vamos a calcular de nuevo el ejercicio pero con mas opciones posibles para ver como aumenta rapidamente el tiempo de ejecución y la complejidad temporal"
   ]
  },
  {
   "cell_type": "code",
   "execution_count": 58,
   "metadata": {},
   "outputs": [
    {
     "name": "stdout",
     "output_type": "stream",
     "text": [
      "Para 4 operaciones y 10 números hemos tardado 5.172226667404175 segundos\n",
      "-----------------------\n",
      "Para 4 operaciones y 11 números hemos tardado 9.51769757270813 segundos\n",
      "-----------------------\n",
      "Para 4 operaciones y 12 números hemos tardado 16.174983263015747 segundos\n",
      "-----------------------\n",
      "Para 4 operaciones y 13 números hemos tardado 26.637192487716675 segundos\n"
     ]
    }
   ],
   "source": [
    "NUMEROS = \"0123456789\"\n",
    "COMB_NUMEROS = list(permutations(NUMEROS, 5)) # creamos las posibles combinaciones de números\n",
    "\n",
    "start = time()\n",
    "obtener_operaciones(2)\n",
    "print(f\"Para 4 operaciones y 10 números hemos tardado {time()-start} segundos\")\n",
    "\n",
    "print(\"-----------------------\")\n",
    "\n",
    "NUMEROS = \"01234567891\"\n",
    "COMB_NUMEROS = list(permutations(NUMEROS, 5)) # creamos las posibles combinaciones de números\n",
    "\n",
    "start = time()\n",
    "obtener_operaciones(2)\n",
    "print(f\"Para 4 operaciones y 11 números hemos tardado {time()-start} segundos\")\n",
    "\n",
    "print(\"-----------------------\")\n",
    "\n",
    "NUMEROS = \"012345678912\"\n",
    "COMB_NUMEROS = list(permutations(NUMEROS, 5)) # creamos las posibles combinaciones de números\n",
    "\n",
    "start = time()\n",
    "obtener_operaciones(2)\n",
    "print(f\"Para 4 operaciones y 12 números hemos tardado {time()-start} segundos\")\n",
    "\n",
    "print(\"-----------------------\")\n",
    "\n",
    "NUMEROS = \"0123456789123\"\n",
    "COMB_NUMEROS = list(permutations(NUMEROS, 5)) # creamos las posibles combinaciones de números\n",
    "\n",
    "start = time()\n",
    "obtener_operaciones(2)\n",
    "print(f\"Para 4 operaciones y 13 números hemos tardado {time()-start} segundos\")"
   ]
  },
  {
   "cell_type": "markdown",
   "metadata": {},
   "source": [
    "Por último, vamos a probar el valor máximo, minimo y si algun valor no se puede conseguir por fuerza bruta:"
   ]
  },
  {
   "cell_type": "code",
   "execution_count": 61,
   "metadata": {},
   "outputs": [],
   "source": [
    "NUMEROS = \"123456789\"\n",
    "COMB_NUMEROS = list(permutations(NUMEROS, 5)) # creamos las posibles combinaciones de números\n",
    "\n",
    "for i in range(-100, 100):\n",
    "    if not obtener_operaciones(i):\n",
    "        print(f\"NO HEMOS ENCONTRADO COMBINACIÓN PARA EL VALOR {i}\")"
   ]
  },
  {
   "cell_type": "markdown",
   "metadata": {},
   "source": [
    "\n",
    "\n",
    "---------------------"
   ]
  },
  {
   "cell_type": "markdown",
   "metadata": {
    "id": "tgrnsC2nkFa8"
   },
   "source": [
    "Calcula la complejidad del algoritmo por fuerza bruta"
   ]
  },
  {
   "cell_type": "markdown",
   "metadata": {
    "id": "9eUd3xwckP68"
   },
   "source": [
    "Respuesta\n",
    "\n",
    "---------------------"
   ]
  },
  {
   "cell_type": "markdown",
   "metadata": {
    "id": "rvZWwL-ckRST"
   },
   "source": [
    "- La complejidad logicamente depende de si buscamos la solución del problema con restricciones o sin restricciones.\n",
    "\n",
    "Sin restricciones: Ya hemos visto que tenemos 9⁵*5⁴ operaciones. Por lo tanto podemos decír que tenemos O(x*n) operaciones siendo x el número de cifras y n el tamaño de la operación a evaluar.\n",
    "Con restricciones: Teníamos 9! operaciones por lo que ahora tendremos O(n!) siendo n el número de cifras.\n",
    "\n",
    "La complejidad sin restricciones es mucho mayor, lo cual es lógico al tener un espacio a recorres considerablemente mayor"
   ]
  },
  {
   "cell_type": "markdown",
   "metadata": {
    "id": "txbrmLmskReM"
   },
   "source": [
    "**(*)Diseña un algoritmo que mejore la complejidad del algortimo por fuerza bruta. Argumenta porque crees que mejora el algoritmo por fuerza bruta**"
   ]
  },
  {
   "cell_type": "markdown",
   "metadata": {
    "id": "hLrVwt5QkZPD"
   },
   "source": [
    "Después de barajar varias opciones (alguna heruística o ramificación y poda) me he decidio implementar una búsqueda aleatoria ya que es sencillo de implementar y entender. Creo que es una buena manera de obtener máximos/minimos aproximados (para iteraciones altas) con un coste computacional bajo. Además puede que también encontremos una fórmula exacta al numero que buscamos. En caso de no encontrarla devolvemos la función con el resultado mas cercano\n",
    "\n",
    "Algoritmo:\n",
    "\n",
    "---------------------"
   ]
  },
  {
   "cell_type": "code",
   "execution_count": 157,
   "metadata": {
    "id": "m1eyM21Vkabg"
   },
   "outputs": [],
   "source": [
    "from random import random,choice\n",
    "import numpy as np\n",
    "\n",
    "SIGNOS = [\"+\",\"-\",\"*\",\"/\"]\n",
    "NUMEROS = [\"1\",\"2\",\"3\",\"4\",\"5\",\"6\",\"7\",\"8\",\"9\"]\n",
    "\n",
    "def busqueda_random_operacion(num, iter_max):\n",
    "    \"\"\"\n",
    "    Función para búsqueda aleatoria de soluciones aproximadas de num.\n",
    "    \n",
    "    Returns: formula, maximo encontrado, minimo encontrado\n",
    "    \"\"\"\n",
    "    iter = 0\n",
    "    eval_form = 0\n",
    "    min_eval_form = \"np.inf\"\n",
    "    max_encontrado = -np.inf\n",
    "    min_encontrado = np.inf\n",
    "    \n",
    "    while eval_form != num and iter <= iter_max:\n",
    "        numeros_disponibles = NUMEROS.copy()\n",
    "        signos_disponibles = SIGNOS.copy()\n",
    "        \n",
    "        # construimos la fórmula aleatoria\n",
    "        formula = \"\"\n",
    "        for i in range(4):\n",
    "            choice_op = choice(signos_disponibles)\n",
    "            choice_num = choice(numeros_disponibles)\n",
    "            numeros_disponibles.remove(choice_num) #eliminamos el numero para no volver a utilizarlo y complir la restriccion de repetición\n",
    "            signos_disponibles.remove(choice_op) #eliminamos el signo para no volver a utilizarlo y complir la restriccion de repetición\n",
    "            formula += f\"{choice_num}{choice_op}\"\n",
    "        formula += choice(numeros_disponibles)\n",
    "        eval_form = eval(formula)        \n",
    "        \n",
    "        #analizamos la formula obtenida\n",
    "        if abs(num-eval_form) < abs(num-eval(min_eval_form)): # almacenamos la formula mas cercana al numero\n",
    "            min_eval_form = formula\n",
    "        if eval_form > max_encontrado: # guardamos el maximo encontrado\n",
    "            max_encontrado = eval_form\n",
    "        elif eval_form < min_encontrado: # guardamos el minimo encontrado\n",
    "            min_encontrado = eval_form            \n",
    "        iter+=1\n",
    "        \n",
    "    if eval_form == num:\n",
    "        return formula, max_encontrado, min_encontrado, 1\n",
    "    else:\n",
    "        # print(f\"Encontrada solución más cercana con una diferencia de {abs(num-eval(min_eval_form))}\")\n",
    "        return min_eval_form, max_encontrado, min_encontrado, 0"
   ]
  },
  {
   "cell_type": "code",
   "execution_count": 168,
   "metadata": {},
   "outputs": [
    {
     "name": "stdout",
     "output_type": "stream",
     "text": [
      "Para el numero 10 y 1000 iteraciones maximas hemos tardado 0.0006313323974609375 segundos\n"
     ]
    }
   ],
   "source": [
    "start = time()\n",
    "busqueda_random_operacion(10, 1000)\n",
    "print(f\"Para el numero 10 y 1000 iteraciones maximas hemos tardado {time()-start} segundos\")"
   ]
  },
  {
   "cell_type": "code",
   "execution_count": 155,
   "metadata": {},
   "outputs": [
    {
     "name": "stdout",
     "output_type": "stream",
     "text": [
      "Hemos encontrado la fórmula correcta un 0.63\n"
     ]
    }
   ],
   "source": [
    "flag_list = []\n",
    "for i in range(100):\n",
    "    _, _, _, flag = busqueda_random_operacion(20, 300)\n",
    "    flag_list.append(flag)\n",
    "flag_list = np.array(flag_list)\n",
    "print(f\"Hemos encontrado la fórmula correcta un {len(flag_list[flag_list==1])/len(flag_list)}\")"
   ]
  },
  {
   "cell_type": "code",
   "execution_count": 156,
   "metadata": {},
   "outputs": [
    {
     "name": "stdout",
     "output_type": "stream",
     "text": [
      "Hemos encontrado la fórmula correcta un 0.27\n"
     ]
    }
   ],
   "source": [
    "flag_list = []\n",
    "for i in range(100):\n",
    "    _, _, _, flag = busqueda_random_operacion(40, 300)\n",
    "    flag_list.append(flag)\n",
    "flag_list = np.array(flag_list)\n",
    "print(f\"Hemos encontrado la fórmula correcta un {len(flag_list[flag_list==1])/len(flag_list)}\")"
   ]
  },
  {
   "cell_type": "markdown",
   "metadata": {},
   "source": [
    "- Vemos como el tiempo es mucho menor (casi 100 veces) a la búsqueda por fuerza bruta.\n",
    "- Vemos como para números mas bajos obtenemos la formula correcta más veces. Esto es logico ya que con pocos numeros es mas facil obtener numeros bajos\n",
    "- Vemos como para numeros altos obtenemos la formula correcta menos veces. Menos de la mitad"
   ]
  },
  {
   "cell_type": "code",
   "execution_count": 133,
   "metadata": {},
   "outputs": [
    {
     "name": "stdout",
     "output_type": "stream",
     "text": [
      "Para 1000 iteraciones hemos encontrado un máximo de 74.0 y un minimo de -69.14285714285714\n"
     ]
    }
   ],
   "source": [
    "formula, max_encontrado, min_encontrado  = busqueda_random_operacion(10, 200)\n",
    "print(f\"Para 1000 iteraciones hemos encontrado un máximo de {max_encontrado} y un minimo de {min_encontrado}\")"
   ]
  },
  {
   "cell_type": "markdown",
   "metadata": {
    "id": "eGDB4K6uk1iN"
   },
   "source": [
    "**(*)Calcula la complejidad del algoritmo**"
   ]
  },
  {
   "cell_type": "markdown",
   "metadata": {
    "id": "NhpTh_BPk1ms"
   },
   "source": [
    "Respuesta\n",
    "\n",
    "---------------------"
   ]
  },
  {
   "cell_type": "markdown",
   "metadata": {
    "id": "nREzhkStlCq8"
   },
   "source": [
    "- Tenemos un máximo de iter_max iteraciones. Además en cada iteración hacemos 5 selecciones aleatorias de valores junto a un borrado de datos. El orden es O(n) siendo n el número de iteraciones. Sin embargo, es cierto que tenemos ciertos multiplicadores y no es n exactamente si no > 4n. Hemos conseguido reducir el problema a un problema lineal.\n",
    "- Podemos reducir la complejidad aun mas si usamos EEDD más adecuadas como por ejemplo los set() que permites borrar elementos en O(1) y no O(n) como las listas."
   ]
  },
  {
   "cell_type": "markdown",
   "metadata": {
    "id": "3M6QjTsSkmYe"
   },
   "source": [
    "Según el problema (y tenga sentido), diseña un juego de datos de entrada aleatorios"
   ]
  },
  {
   "cell_type": "markdown",
   "metadata": {
    "id": "Jc3_OlyNkvjZ"
   },
   "source": [
    "Respuesta\n",
    "\n",
    "---------------------"
   ]
  },
  {
   "cell_type": "code",
   "execution_count": null,
   "metadata": {
    "id": "sJ-N2etjkyWc"
   },
   "outputs": [],
   "source": []
  },
  {
   "cell_type": "markdown",
   "metadata": {
    "id": "zy5ZROmjlGo1"
   },
   "source": [
    "Aplica el algoritmo al juego de datos generado"
   ]
  },
  {
   "cell_type": "markdown",
   "metadata": {
    "id": "_Cmj-PVylMsa"
   },
   "source": [
    "Respuesta\n",
    "\n",
    "---------------------"
   ]
  },
  {
   "cell_type": "code",
   "execution_count": null,
   "metadata": {
    "id": "Jkx8GeiYlUz1"
   },
   "outputs": [],
   "source": []
  },
  {
   "cell_type": "markdown",
   "metadata": {
    "id": "eTFWUJQrtGcv"
   },
   "source": [
    "Enumera las referencias que has utilizado(si ha sido necesario) para llevar a cabo el trabajo"
   ]
  },
  {
   "cell_type": "markdown",
   "metadata": {
    "id": "YKQ_mRBttWsP"
   },
   "source": [
    "Respuesta\n",
    "\n",
    "---------------------"
   ]
  },
  {
   "cell_type": "markdown",
   "metadata": {},
   "source": [
    "- https://www.unirioja.es/talleres/creatividad_matematica/SeminarioBachillerato/COMBINATORIA.pdf\n",
    "- https://docs.python.org/3/library/itertools.html\n",
    "- https://wiki.python.org/moin/TimeComplexity \n",
    "---------------------"
   ]
  },
  {
   "cell_type": "markdown",
   "metadata": {
    "id": "kAkDPUyRtYyH"
   },
   "source": [
    "Describe brevemente las lineas de como crees que es posible avanzar en el estudio del problema. Ten en cuenta incluso posibles variaciones del problema y/o variaciones al alza del tamaño"
   ]
  },
  {
   "cell_type": "markdown",
   "metadata": {
    "id": "IE0uZmo-tZu-"
   },
   "source": [
    "Respuesta\n",
    "\n",
    "---------------------"
   ]
  },
  {
   "cell_type": "markdown",
   "metadata": {},
   "source": [
    "Basado en mi experiencia trabajando en el mundo de la IA (en campos sobretodo de Deeplearning) he conversado muchas veces con compañeros especializados en Aprendizaje por refuerzo. Este tipo de algoritmos se sirven de unas recompensas o premios para elegir los siguientes pasos a realizar. Creo que si aumentamos la complejidad del problema aportando más restricciones y aumentando e número de condiciones y variables debemos pensar en aplicar algoritmos de este tipo.\n",
    "\n",
    "Es cierto que se trata de algoritmos que no están pensados para optimizar procesos si no obtener los mejores resultados (con implementaciones sencillas). Es ocmunmente usado para resolver juegos o problemas espaciales (por ejemplo movimientos y decisiones de robots o el problema del taxista). Realmente veo una similitud entre lo que queremos hacer y este tipo de algoritmo de Machine Learnings, pero como digo, puede ir en contra de la filosofía de la presente asignatura de encontrar algoritmos eficaces pero eficientes.\n",
    "\n",
    "---------------------"
   ]
  },
  {
   "cell_type": "code",
   "execution_count": null,
   "metadata": {},
   "outputs": [],
   "source": []
  }
 ],
 "metadata": {
  "colab": {
   "collapsed_sections": [],
   "name": "Seminario - Algoritmos.ipynb",
   "provenance": []
  },
  "kernelspec": {
   "display_name": "Python 3 (ipykernel)",
   "language": "python",
   "name": "python3"
  },
  "language_info": {
   "codemirror_mode": {
    "name": "ipython",
    "version": 3
   },
   "file_extension": ".py",
   "mimetype": "text/x-python",
   "name": "python",
   "nbconvert_exporter": "python",
   "pygments_lexer": "ipython3",
   "version": "3.8.10"
  }
 },
 "nbformat": 4,
 "nbformat_minor": 4
}
